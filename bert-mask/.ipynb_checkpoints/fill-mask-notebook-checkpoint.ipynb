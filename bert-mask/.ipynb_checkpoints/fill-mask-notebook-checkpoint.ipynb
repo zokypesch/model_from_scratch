{
 "cells": [
  {
   "cell_type": "code",
   "execution_count": 3,
   "id": "782c3fad-8c11-4e6b-9923-216cdd9f08d8",
   "metadata": {},
   "outputs": [
    {
     "name": "stderr",
     "output_type": "stream",
     "text": [
      "/Users/maulana/.pyenv/versions/3.9.1/lib/python3.9/site-packages/transformers/utils/generic.py:441: UserWarning: torch.utils._pytree._register_pytree_node is deprecated. Please use torch.utils._pytree.register_pytree_node instead.\n",
      "  _torch_pytree._register_pytree_node(\n",
      "/Users/maulana/.pyenv/versions/3.9.1/lib/python3.9/site-packages/transformers/utils/generic.py:309: UserWarning: torch.utils._pytree._register_pytree_node is deprecated. Please use torch.utils._pytree.register_pytree_node instead.\n",
      "  _torch_pytree._register_pytree_node(\n"
     ]
    },
    {
     "name": "stdout",
     "output_type": "stream",
     "text": [
      "'NoneType' object has no attribute 'cadam32bit_grad_fp32'\n"
     ]
    },
    {
     "name": "stderr",
     "output_type": "stream",
     "text": [
      "/Users/maulana/.pyenv/versions/3.9.1/lib/python3.9/site-packages/transformers/utils/generic.py:309: UserWarning: torch.utils._pytree._register_pytree_node is deprecated. Please use torch.utils._pytree.register_pytree_node instead.\n",
      "  _torch_pytree._register_pytree_node(\n",
      "/Users/maulana/.pyenv/versions/3.9.1/lib/python3.9/site-packages/bitsandbytes/cextension.py:34: UserWarning: The installed version of bitsandbytes was compiled without GPU support. 8-bit optimizers, 8-bit multiplication, and GPU quantization are unavailable.\n",
      "  warn(\"The installed version of bitsandbytes was compiled without GPU support. \"\n"
     ]
    }
   ],
   "source": [
    "import pandas as pd\n",
    "from transformers import BertTokenizer, LineByLineTextDataset, BertConfig, BertForMaskedLM, DataCollatorForLanguageModeling, Trainer, TrainingArguments\n",
    "from tokenizers import BertWordPieceTokenizer"
   ]
  },
  {
   "cell_type": "code",
   "execution_count": 4,
   "id": "aa5c73d1-3e74-4c3a-a95d-3347c49a2789",
   "metadata": {},
   "outputs": [],
   "source": [
    "data_set_dir = \"./data-set\"\n",
    "model_dir = \"./saved_model\"\n",
    "model_output_dir = \"./saved_model_output\""
   ]
  },
  {
   "cell_type": "code",
   "execution_count": 3,
   "id": "fc44b17f-404c-4d50-b70b-8015cd38d221",
   "metadata": {},
   "outputs": [],
   "source": [
    "df = pd.read_csv(f'{data_set_dir}/reviews.csv')\n",
    "df.dropna(inplace=True)\n",
    "mlm_df = df[['title', 'body']].copy()"
   ]
  },
  {
   "cell_type": "code",
   "execution_count": 4,
   "id": "90ae68b1-01cd-4878-8b46-860bd66391ea",
   "metadata": {},
   "outputs": [],
   "source": [
    "with open(f'{data_set_dir}/review_data.txt', 'w', encoding='utf-8') as f:\n",
    "    for title, body in zip(mlm_df.title.values, mlm_df.body.values):\n",
    "        f.write(title + '\\n')\n",
    "        f.write(body + '\\n')"
   ]
  },
  {
   "cell_type": "code",
   "execution_count": 6,
   "id": "3352fda9-6cb9-46b4-bd42-9a7592dcafac",
   "metadata": {},
   "outputs": [
    {
     "name": "stdout",
     "output_type": "stream",
     "text": [
      "\n",
      "\n",
      "\n"
     ]
    },
    {
     "name": "stderr",
     "output_type": "stream",
     "text": [
      "/Users/maulana/.pyenv/versions/3.9.1/lib/python3.9/site-packages/transformers/tokenization_utils_base.py:1925: FutureWarning: Calling BertTokenizer.from_pretrained() with the path to a single file or url is deprecated and won't be possible anymore in v5. Use a model identifier or the path to a directory instead.\n",
      "  warnings.warn(\n"
     ]
    }
   ],
   "source": [
    "tokenizer = BertWordPieceTokenizer()\n",
    "# vocab_size adalah jumlah vocab/kata yang diinginkan\n",
    "tokenizer.train(files=f\"{data_set_dir}/review_data.txt\", vocab_size=30522)\n",
    "tokenizer.save_model(f'{model_dir}/', 'phone_review')\n",
    "# load model\n",
    "vocab_file_dir = f'{model_dir}/phone_review-vocab.txt'\n",
    "custom_tokenizer = BertTokenizer.from_pretrained(vocab_file_dir)"
   ]
  },
  {
   "cell_type": "code",
   "execution_count": 7,
   "id": "e36dcf75-ccff-4abd-a0ea-83868040eca8",
   "metadata": {},
   "outputs": [
    {
     "name": "stdout",
     "output_type": "stream",
     "text": [
      "['motorola', 'v860', 'is', 'a', 'good', 'phone']\n"
     ]
    }
   ],
   "source": [
    "sentence = 'Motorola V860 is a good phone'\n",
    "encoded_input = custom_tokenizer.tokenize(sentence)\n",
    "print(encoded_input)"
   ]
  },
  {
   "cell_type": "code",
   "execution_count": 8,
   "id": "8f3d4e3e-b338-4aaa-a69f-7fb38444eac1",
   "metadata": {},
   "outputs": [
    {
     "name": "stderr",
     "output_type": "stream",
     "text": [
      "huggingface/tokenizers: The current process just got forked, after parallelism has already been used. Disabling parallelism to avoid deadlocks...\n",
      "To disable this warning, you can either:\n",
      "\t- Avoid using `tokenizers` before the fork if possible\n",
      "\t- Explicitly set the environment variable TOKENIZERS_PARALLELISM=(true | false)\n"
     ]
    },
    {
     "data": {
      "application/vnd.jupyter.widget-view+json": {
       "model_id": "c81f29d1a95a40e9a34877dbe4a37a92",
       "version_major": 2,
       "version_minor": 0
      },
      "text/plain": [
       "tokenizer_config.json:   0%|          | 0.00/48.0 [00:00<?, ?B/s]"
      ]
     },
     "metadata": {},
     "output_type": "display_data"
    },
    {
     "data": {
      "application/vnd.jupyter.widget-view+json": {
       "model_id": "22386166fa694cec9d8f91df32531f30",
       "version_major": 2,
       "version_minor": 0
      },
      "text/plain": [
       "vocab.txt:   0%|          | 0.00/232k [00:00<?, ?B/s]"
      ]
     },
     "metadata": {},
     "output_type": "display_data"
    },
    {
     "data": {
      "application/vnd.jupyter.widget-view+json": {
       "model_id": "995ce853f9e14e2faaa964090574adbb",
       "version_major": 2,
       "version_minor": 0
      },
      "text/plain": [
       "tokenizer.json:   0%|          | 0.00/466k [00:00<?, ?B/s]"
      ]
     },
     "metadata": {},
     "output_type": "display_data"
    },
    {
     "data": {
      "application/vnd.jupyter.widget-view+json": {
       "model_id": "d78ae70618a74b3dae12fd60b57a3d9b",
       "version_major": 2,
       "version_minor": 0
      },
      "text/plain": [
       "config.json:   0%|          | 0.00/570 [00:00<?, ?B/s]"
      ]
     },
     "metadata": {},
     "output_type": "display_data"
    },
    {
     "name": "stdout",
     "output_type": "stream",
     "text": [
      "['motorola', 'v8', '##60', 'is', 'a', 'good', 'phone']\n"
     ]
    }
   ],
   "source": [
    "# Load BERT default tokenizer -> checkin result is not all tokenizer\n",
    "bert_default_tokenizer = BertTokenizer.from_pretrained('bert-base-uncased')\n",
    "sentence = 'Motorola V860 is a good phone'\n",
    "encoded_input = bert_default_tokenizer.tokenize(sentence)\n",
    "print(encoded_input)"
   ]
  },
  {
   "cell_type": "code",
   "execution_count": 10,
   "id": "986c5719-3531-4ef1-9fac-3842cd67dcd6",
   "metadata": {},
   "outputs": [
    {
     "name": "stdout",
     "output_type": "stream",
     "text": [
      "No. of lines:  54409\n"
     ]
    }
   ],
   "source": [
    "dataset= LineByLineTextDataset(\n",
    "    tokenizer = custom_tokenizer,\n",
    "    file_path = f'{data_set_dir}/review_data.txt',\n",
    "    block_size = 128\n",
    ")\n",
    "print('No. of lines: ', len(dataset))"
   ]
  },
  {
   "cell_type": "code",
   "execution_count": 13,
   "id": "0b04f35c-beea-4357-a220-3a216cfe8851",
   "metadata": {},
   "outputs": [
    {
     "name": "stdout",
     "output_type": "stream",
     "text": [
      "No of parameters:  66987066\n"
     ]
    }
   ],
   "source": [
    "# Define model parameters to train BERT model from scratch\n",
    "config = BertConfig(\n",
    "    vocab_size=30522,\n",
    "    hidden_size=768, \n",
    "    num_hidden_layers=6, \n",
    "    num_attention_heads=12,\n",
    "    max_position_embeddings=512\n",
    ")\n",
    "  \n",
    "model = BertForMaskedLM(config)\n",
    "print('No of parameters: ', model.num_parameters())\n",
    "data_collator = DataCollatorForLanguageModeling(\n",
    "    tokenizer=custom_tokenizer, mlm=True, mlm_probability=0.15\n",
    ")"
   ]
  },
  {
   "cell_type": "code",
   "execution_count": 5,
   "id": "db6f33ac-2fd0-4512-89d6-1f9f956e48c3",
   "metadata": {},
   "outputs": [
    {
     "ename": "NameError",
     "evalue": "name 'model' is not defined",
     "output_type": "error",
     "traceback": [
      "\u001b[0;31m---------------------------------------------------------------------------\u001b[0m",
      "\u001b[0;31mNameError\u001b[0m                                 Traceback (most recent call last)",
      "Cell \u001b[0;32mIn[5], line 13\u001b[0m\n\u001b[1;32m      1\u001b[0m training_args \u001b[38;5;241m=\u001b[39m TrainingArguments(\n\u001b[1;32m      2\u001b[0m     output_dir\u001b[38;5;241m=\u001b[39m\u001b[38;5;124mf\u001b[39m\u001b[38;5;124m'\u001b[39m\u001b[38;5;132;01m{\u001b[39;00mmodel_output_dir\u001b[38;5;132;01m}\u001b[39;00m\u001b[38;5;124m/\u001b[39m\u001b[38;5;124m'\u001b[39m,\n\u001b[1;32m      3\u001b[0m     overwrite_output_dir\u001b[38;5;241m=\u001b[39m\u001b[38;5;28;01mTrue\u001b[39;00m,\n\u001b[0;32m   (...)\u001b[0m\n\u001b[1;32m      9\u001b[0m     report_to\u001b[38;5;241m=\u001b[39m\u001b[38;5;124m\"\u001b[39m\u001b[38;5;124mnone\u001b[39m\u001b[38;5;124m\"\u001b[39m\n\u001b[1;32m     10\u001b[0m )\n\u001b[1;32m     12\u001b[0m trainer \u001b[38;5;241m=\u001b[39m Trainer(\n\u001b[0;32m---> 13\u001b[0m     model\u001b[38;5;241m=\u001b[39m\u001b[43mmodel\u001b[49m,\n\u001b[1;32m     14\u001b[0m     args\u001b[38;5;241m=\u001b[39mtraining_args,\n\u001b[1;32m     15\u001b[0m     data_collator\u001b[38;5;241m=\u001b[39mdata_collator,\n\u001b[1;32m     16\u001b[0m     train_dataset\u001b[38;5;241m=\u001b[39mdataset\n\u001b[1;32m     17\u001b[0m )\n",
      "\u001b[0;31mNameError\u001b[0m: name 'model' is not defined"
     ]
    }
   ],
   "source": [
    "training_args = TrainingArguments(\n",
    "    output_dir=f'{model_output_dir}/',\n",
    "    overwrite_output_dir=True,\n",
    "    num_train_epochs=30,\n",
    "    per_device_train_batch_size=16,\n",
    "    save_steps=10_000,\n",
    "    save_total_limit=2,\n",
    "    prediction_loss_only=True,\n",
    "    report_to=\"none\"\n",
    ")\n",
    " \n",
    "trainer = Trainer(\n",
    "    model=model,\n",
    "    args=training_args,\n",
    "    data_collator=data_collator,\n",
    "    train_dataset=dataset\n",
    ")"
   ]
  },
  {
   "cell_type": "code",
   "execution_count": 21,
   "id": "978c28f4-3d72-422e-b25b-0bbccbc372ad",
   "metadata": {},
   "outputs": [
    {
     "data": {
      "text/plain": [
       "True"
      ]
     },
     "execution_count": 21,
     "metadata": {},
     "output_type": "execute_result"
    }
   ],
   "source": [
    "import torch\n",
    "# check eaither cuda or mps is available\n",
    "device = torch.device(\"mps\")\n",
    "torch.backends.mps.is_available()"
   ]
  },
  {
   "cell_type": "code",
   "execution_count": null,
   "id": "ef56ac2e-e573-4e11-830e-3903b4edd31d",
   "metadata": {},
   "outputs": [],
   "source": [
    "# trainer.train().to(device)\n",
    "# trainer.save_model(f'{model_dir}/').to(device)"
   ]
  },
  {
   "cell_type": "code",
   "execution_count": null,
   "id": "75fd8c10-f410-4010-91af-b22d8b88b65c",
   "metadata": {},
   "outputs": [],
   "source": [
    "# Load custom trained BERT model\n",
    "from transformers import pipeline\n",
    "model = BertForMaskedLM.from_pretrained(model_output_dir)\n",
    "fill_mask = pipeline(\n",
    "    \"fill-mask\",\n",
    "    model=model,\n",
    "    tokenizer=custom_tokenizer\n",
    ")\n",
    "# Actual Text: the battery life is bad\n",
    "fill_mask('the battery [MASK] is bad')"
   ]
  }
 ],
 "metadata": {
  "kernelspec": {
   "display_name": "Python 3 (ipykernel)",
   "language": "python",
   "name": "python3"
  },
  "language_info": {
   "codemirror_mode": {
    "name": "ipython",
    "version": 3
   },
   "file_extension": ".py",
   "mimetype": "text/x-python",
   "name": "python",
   "nbconvert_exporter": "python",
   "pygments_lexer": "ipython3",
   "version": "3.9.1"
  }
 },
 "nbformat": 4,
 "nbformat_minor": 5
}
