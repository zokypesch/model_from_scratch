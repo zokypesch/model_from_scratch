{
 "cells": [
  {
   "cell_type": "code",
   "execution_count": 2,
   "id": "98f7fe44-041a-4a7d-b9a4-dba9d1e48a5f",
   "metadata": {},
   "outputs": [],
   "source": [
    "import json\n",
    "# Read training data to finetune custom BERT model\n",
    "with open(r\"data/amazon_data_train.json\", \"r\") as read_file:\n",
    "    train = json.load(read_file)\n",
    "# Read test data to evaluate finetuned model\n",
    "with open(r\"data/amazon_data_test.json\", \"r\") as read_file:\n",
    "    test = json.load(read_file)"
   ]
  },
  {
   "cell_type": "code",
   "execution_count": null,
   "id": "a2c02576-7c12-4bbf-97a8-ad13498445f6",
   "metadata": {},
   "outputs": [],
   "source": [
    "import logging\n",
    "from simpletransformers.question_answering import QuestionAnsweringModel, QuestionAnsweringArgs\n",
    "from transformers import BertTokenizer\n",
    "# Load your custom tokenizer\n",
    "tokenizer = BertTokenizer.from_pretrained('../bert-mask/data-set/phone_review-vocab.txt')\n",
    "# Save the tokenizer to the model directory\n",
    "tokenizer.save_pretrained('../bert-mask/custom_bert_output/')"
   ]
  },
  {
   "cell_type": "code",
   "execution_count": null,
   "id": "0490d91d-b23a-4cc9-8686-7b02c67650df",
   "metadata": {},
   "outputs": [],
   "source": [
    "import logging\n",
    "from simpletransformers.question_answering import QuestionAnsweringModel, QuestionAnsweringArgs\n",
    "from transformers import BertTokenizer, BertForMaskedLM\n",
    " \n",
    "# Define model type and custom bert model path\n",
    "model_type=\"bert\"\n",
    "model_name=('../bert-mask/custom_bert_output/')\n",
    " \n",
    "# Create a output folder to save fine tuned custom bert\n",
    "import os\n",
    "output_dir = 'finetune_bert_outputs'\n",
    "os.mkdir(output_dir)\n",
    " \n",
    "# Set up training arguments\n",
    "train_args = {\n",
    "    \"reprocess_input_data\": True,\n",
    "    \"overwrite_output_dir\": True,\n",
    "    \"use_cached_eval_features\": True,\n",
    "    \"output_dir\": f\"outputs/{model_type}\",\n",
    "    \"best_model_dir\": f\"{output_dir}/{model_type}/best_model\",\n",
    "    \"evaluate_during_training\": True,\n",
    "    \"max_seq_length\": 128,\n",
    "    \"num_train_epochs\": 30,\n",
    "    \"evaluate_during_training_steps\": 1000,\n",
    "    \"save_model_every_epoch\": False,\n",
    "    \"save_eval_checkpoints\": False,\n",
    "    \"n_best_size\":8,\n",
    "    \"train_batch_size\": 16,\n",
    "    \"eval_batch_size\": 16\n",
    "}\n",
    " \n",
    "# Load custom model with tokenizer\n",
    "model = QuestionAnsweringModel(model_type, model_name, args=train_args, use_cuda=False)"
   ]
  },
  {
   "cell_type": "code",
   "execution_count": null,
   "id": "eb36bf18-943e-44f3-81bc-69ba098b422f",
   "metadata": {},
   "outputs": [],
   "source": [
    "# train model\n",
    "model.train_model(train, eval_data=test)"
   ]
  },
  {
   "cell_type": "code",
   "execution_count": null,
   "id": "e96a6e10-4e1c-4353-8c73-75a104068a1a",
   "metadata": {},
   "outputs": [],
   "source": [
    "# Evaluate the model\n",
    "result, texts = model.eval_model(test)\n",
    "result"
   ]
  },
  {
   "cell_type": "code",
   "execution_count": null,
   "id": "81670720-6589-48c3-ae7e-c2c1f275eea9",
   "metadata": {},
   "outputs": [],
   "source": [
    "# Make predictions with the model\n",
    "to_predict = [\n",
    "    {\n",
    "        \"context\": \"Samsung Galaxy M14 5G (Smoky Teal, 6GB, 128GB Storage) | 50MP Triple Cam | 6000 mAh Battery | 5nm Octa-Core Processor | 12GB RAM with RAM Plus | Android 13 | Without Charger\",\n",
    "        \"qas\": [\n",
    "            {\n",
    "                \"question\": \"What is the model name of the Samsung smartphone?\",\n",
    "                \"id\": \"0\",\n",
    "            }\n",
    "        ],\n",
    "    }\n",
    "]\n",
    " \n",
    "answers, probabilities = model.predict(to_predict, n_best_size=None)\n",
    "print(answers)"
   ]
  },
  {
   "cell_type": "code",
   "execution_count": null,
   "id": "5b226a09-dfbe-4db7-a09a-fb3c0d91e153",
   "metadata": {},
   "outputs": [],
   "source": [
    "# Make predictions with the model\n",
    "to_predict = [\n",
    "    {\n",
    "        \"context\": \"Samsung Galaxy M14 5G (Smoky Teal, 6GB, 128GB Storage) | 50MP Triple Cam | 6000 mAh Battery | 5nm Octa-Core Processor | 12GB RAM with RAM Plus | Android 13 | Without Charger\",\n",
    "        \"qas\": [\n",
    "            {\n",
    "                \"question\": \"Does the Samsung Galaxy M14 5G come with a charger?\",\n",
    "                \"id\": \"0\",\n",
    "            }\n",
    "        ],\n",
    "    }\n",
    "]\n",
    " \n",
    "answers, probabilities = model.predict(to_predict, n_best_size=None)\n",
    "print(answers)"
   ]
  }
 ],
 "metadata": {
  "kernelspec": {
   "display_name": "Python 3 (ipykernel)",
   "language": "python",
   "name": "python3"
  },
  "language_info": {
   "codemirror_mode": {
    "name": "ipython",
    "version": 3
   },
   "file_extension": ".py",
   "mimetype": "text/x-python",
   "name": "python",
   "nbconvert_exporter": "python",
   "pygments_lexer": "ipython3",
   "version": "3.9.1"
  }
 },
 "nbformat": 4,
 "nbformat_minor": 5
}
